{
  "nbformat_minor": 0,
  "metadata": {
    "language_info": {
      "mimetype": "text/x-python",
      "codemirror_mode": {
        "name": "ipython",
        "version": 3
      },
      "file_extension": ".py",
      "pygments_lexer": "ipython3",
      "nbconvert_exporter": "python",
      "name": "python",
      "version": "3.5.2"
    },
    "kernelspec": {
      "name": "python3",
      "display_name": "Python 3",
      "language": "python"
    }
  },
  "nbformat": 4,
  "cells": [
    {
      "outputs": [],
      "execution_count": null,
      "cell_type": "code",
      "metadata": {
        "collapsed": false
      },
      "source": [
        "%matplotlib inline"
      ]
    },
    {
      "cell_type": "markdown",
      "metadata": {},
      "source": [
        "\n# Read and plot an image from a FITS file\n\n\nThis example opens an image stored in a FITS file and displays it to the screen.\n\nThis example uses `astropy.utils.data` to download the file, `astropy.io.fits` to open\nthe file, and `matplotlib.pyplot` to display the image.\n\n-------------------\n\n*By: Lia R. Corrales, Adrian Price-Whelan, Kelle Cruz*\n\n*License: BSD*\n\n-------------------\n\n\n"
      ]
    },
    {
      "cell_type": "markdown",
      "metadata": {},
      "source": [
        "Set up matplotlib and use a nicer set of plot parameters\n\n"
      ]
    },
    {
      "outputs": [],
      "execution_count": null,
      "cell_type": "code",
      "metadata": {
        "collapsed": false
      },
      "source": [
        "import matplotlib.pyplot as plt\nfrom astropy.visualization import astropy_mpl_style\nplt.style.use(astropy_mpl_style)"
      ]
    },
    {
      "cell_type": "markdown",
      "metadata": {},
      "source": [
        "Download the example FITS files used by this example:\n\n"
      ]
    },
    {
      "outputs": [],
      "execution_count": null,
      "cell_type": "code",
      "metadata": {
        "collapsed": false
      },
      "source": [
        "from astropy.utils.data import download_file\nfrom astropy.io import fits\n\nimage_file = download_file('http://data.astropy.org/tutorials/FITS-images/HorseHead.fits',\n                           cache=True)"
      ]
    },
    {
      "cell_type": "markdown",
      "metadata": {},
      "source": [
        "Use `astropy.io.fits.info()` to display the structure of the file:\n\n"
      ]
    },
    {
      "outputs": [],
      "execution_count": null,
      "cell_type": "code",
      "metadata": {
        "collapsed": false
      },
      "source": [
        "fits.info(image_file)"
      ]
    },
    {
      "cell_type": "markdown",
      "metadata": {},
      "source": [
        "Generally the image information is located in the Primary HDU, also known\nas extension 0. Here, we use `astropy.io.fits.getdata()` to read the image\ndata from this first extension using the keyword argument ``ext=0``:\n\n"
      ]
    },
    {
      "outputs": [],
      "execution_count": null,
      "cell_type": "code",
      "metadata": {
        "collapsed": false
      },
      "source": [
        "image_data = fits.getdata(image_file, ext=0)"
      ]
    },
    {
      "cell_type": "markdown",
      "metadata": {},
      "source": [
        "The data is now stored as a 2D numpy array. Print the dimensions using the\nshape attribute:\n\n"
      ]
    },
    {
      "outputs": [],
      "execution_count": null,
      "cell_type": "code",
      "metadata": {
        "collapsed": false
      },
      "source": [
        "print(image_data.shape)"
      ]
    },
    {
      "cell_type": "markdown",
      "metadata": {},
      "source": [
        "Display the image data:\n\n"
      ]
    },
    {
      "outputs": [],
      "execution_count": null,
      "cell_type": "code",
      "metadata": {
        "collapsed": false
      },
      "source": [
        "plt.figure()\nplt.imshow(image_data, cmap='gray')\nplt.colorbar()"
      ]
    }
  ]
}