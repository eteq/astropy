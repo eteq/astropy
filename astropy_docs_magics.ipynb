{
 "cells": [
  {
   "cell_type": "code",
   "execution_count": 1,
   "metadata": {
    "collapsed": true
   },
   "outputs": [],
   "source": [
    "from IPython.core.magic import register_line_magic\n",
    "\n",
    "from astropy import utils"
   ]
  },
  {
   "cell_type": "code",
   "execution_count": 2,
   "metadata": {
    "collapsed": true
   },
   "outputs": [],
   "source": [
    "@register_line_magic\n",
    "def docs(line):\n",
    "    \"View the documentation for this object\"\n",
    "    \n",
    "    if '-n' in line:\n",
    "        openinbrowser = False\n",
    "        line = line.replace('-n', '')\n",
    "    else:\n",
    "        openinbrowser = True\n",
    "    \n",
    "    try:\n",
    "        url = utils.find_api_page(eval(line), openinbrowser=openinbrowser)\n",
    "        print('Loading URL', url, 'in your browser')\n",
    "    except:\n",
    "        print('Could not find API page for \"{}\"'.format(line))\n",
    "\n",
    "@register_line_magic\n",
    "def extra_pinfo(line):\n",
    "    obj = eval(line)\n",
    "    url = utils.find_api_page(obj, openinbrowser=False)\n",
    "    \n",
    "    olddocstring = obj.__doc__\n",
    "    try:\n",
    "        obj.__doc__ = 'Astropy docs URL: ' + url + '\\n'+obj.__doc__\n",
    "        get_ipython().run_line_magic('pinfo', line)\n",
    "    finally:\n",
    "        obj.__doc__ = olddocstring"
   ]
  },
  {
   "cell_type": "code",
   "execution_count": 3,
   "metadata": {
    "collapsed": false
   },
   "outputs": [
    {
     "name": "stdout",
     "output_type": "stream",
     "text": [
      "Loading URL http://docs.astropy.org/en/v1.1.1/utils/index.html#module-astropy.utils in your browser\n"
     ]
    }
   ],
   "source": [
    "%docs -n utils"
   ]
  },
  {
   "cell_type": "code",
   "execution_count": 4,
   "metadata": {
    "collapsed": false
   },
   "outputs": [
    {
     "name": "stdout",
     "output_type": "stream",
     "text": [
      "Loading URL http://docs.astropy.org/en/v1.1.1/utils/index.html#module-astropy.utils in your browser\n"
     ]
    }
   ],
   "source": [
    "%docs utils"
   ]
  },
  {
   "cell_type": "code",
   "execution_count": 5,
   "metadata": {
    "collapsed": false
   },
   "outputs": [],
   "source": [
    "# this should open the pager... but it doesn't have *clickable* links\n",
    "%extra_pinfo utils"
   ]
  }
 ],
 "metadata": {
  "kernelspec": {
   "display_name": "Python 3",
   "language": "python",
   "name": "python3"
  },
  "language_info": {
   "codemirror_mode": {
    "name": "ipython",
    "version": 3
   },
   "file_extension": ".py",
   "mimetype": "text/x-python",
   "name": "python",
   "nbconvert_exporter": "python",
   "pygments_lexer": "ipython3",
   "version": "3.5.1"
  }
 },
 "nbformat": 4,
 "nbformat_minor": 0
}
